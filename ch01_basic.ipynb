{
 "cells": [
  {
   "cell_type": "markdown",
   "metadata": {},
   "source": [
    "### 주석"
   ]
  },
  {
   "cell_type": "code",
   "execution_count": 1,
   "metadata": {},
   "outputs": [
    {
     "name": "stdout",
     "output_type": "stream",
     "text": [
      "사과\n",
      "바나나\n"
     ]
    }
   ],
   "source": [
    "# 사과 바나나 출력 프로그램\n",
    "# 작성일 : 2020.10.5  \n",
    "str1 = \"사과\"     # “ “ 로 둘러싸면 문자열을 나타냅니다.\n",
    "str2 = '바나나'   # ‘ ‘도 가능합니다.\n",
    "print(str1)\n",
    "print(str2)"
   ]
  },
  {
   "cell_type": "markdown",
   "metadata": {},
   "source": [
    "### 변수 - 값을 저장하는 장소\n",
    "* print(출력하고자하는 값 또는 변수)"
   ]
  },
  {
   "cell_type": "code",
   "execution_count": 2,
   "metadata": {},
   "outputs": [
    {
     "name": "stdout",
     "output_type": "stream",
     "text": [
      "10\n"
     ]
    }
   ],
   "source": [
    "x = 10\n",
    "print(x)"
   ]
  },
  {
   "cell_type": "markdown",
   "metadata": {},
   "source": [
    "### 사용자 입력 – input()\n",
    "* input([화면에 보여주고자 하는 설명])"
   ]
  },
  {
   "cell_type": "code",
   "execution_count": 3,
   "metadata": {},
   "outputs": [
    {
     "name": "stdout",
     "output_type": "stream",
     "text": [
      "test\n"
     ]
    },
    {
     "data": {
      "text/plain": [
       "'test'"
      ]
     },
     "execution_count": 3,
     "metadata": {},
     "output_type": "execute_result"
    }
   ],
   "source": [
    "input()"
   ]
  },
  {
   "cell_type": "code",
   "execution_count": 4,
   "metadata": {},
   "outputs": [
    {
     "name": "stdout",
     "output_type": "stream",
     "text": [
      "id :toto\n",
      "pwd :1234\n",
      "toto 1234\n"
     ]
    }
   ],
   "source": [
    "# 소스코드(2.3.2) id(아이디)와 pwd(패스워드)입력받기\n",
    "myid = input(\"id :\")    # id입력 후, myid에 저장\n",
    "mypwd = input(\"pwd :\")  # pwd입력 후, mypwd에 저장\n",
    "print(myid, mypwd)      # myid와 mypwd를 출력\n"
   ]
  },
  {
   "cell_type": "markdown",
   "metadata": {},
   "source": [
    "### 나의 애완동물 나이?\n"
   ]
  },
  {
   "cell_type": "code",
   "execution_count": 5,
   "metadata": {},
   "outputs": [
    {
     "name": "stdout",
     "output_type": "stream",
     "text": [
      "나의 애완동물의 나이는?10\n",
      "10\n",
      "<class 'str'>\n"
     ]
    }
   ],
   "source": [
    "age = input(\"나의 애완동물의 나이는?\")\n",
    "print(age)\n",
    "print(type(age))\n"
   ]
  },
  {
   "cell_type": "code",
   "execution_count": 6,
   "metadata": {},
   "outputs": [
    {
     "name": "stdout",
     "output_type": "stream",
     "text": [
      "나의 애완동물의 나이는?10\n",
      "10년 후의 애완동물의 나이는  20\n"
     ]
    }
   ],
   "source": [
    "age = input(\"나의 애완동물의 나이는?\")\n",
    "age = int( age )\n",
    "print(\"10년 후의 애완동물의 나이는 \", age + 10)\n"
   ]
  },
  {
   "cell_type": "markdown",
   "metadata": {},
   "source": [
    "### 이름을 기억하는 인공지능 로봇"
   ]
  },
  {
   "cell_type": "code",
   "execution_count": 7,
   "metadata": {},
   "outputs": [
    {
     "name": "stdout",
     "output_type": "stream",
     "text": [
      "안녕 난 토돌이야, 반갑다\n",
      "너의 이름은 뭐니?toto\n",
      "이름은  toto  이구나. 앞으로 잘 부탁해\n"
     ]
    }
   ],
   "source": [
    "print(\"안녕 난 토돌이야, 반갑다\")\n",
    "name = input(\"너의 이름은 뭐니?\")\n",
    "print(\"이름은 \", name, \" 이구나. 앞으로 잘 부탁해\")"
   ]
  },
  {
   "cell_type": "markdown",
   "metadata": {},
   "source": [
    "### 연산자에 대한 이해"
   ]
  },
  {
   "cell_type": "code",
   "execution_count": 9,
   "metadata": {},
   "outputs": [
    {
     "name": "stdout",
     "output_type": "stream",
     "text": [
      "30\n"
     ]
    }
   ],
   "source": [
    "# 두개의 값을 더하기\n",
    "num1 = 10\n",
    "num2 = 20\n",
    "print(num1 + num2)"
   ]
  },
  {
   "cell_type": "markdown",
   "metadata": {},
   "source": [
    "#### [실습해 보기] 두 개의 값에 대한 연산을 계산하는 프로그램 만들기 (-, /, *)"
   ]
  },
  {
   "cell_type": "code",
   "execution_count": null,
   "metadata": {},
   "outputs": [],
   "source": []
  },
  {
   "cell_type": "code",
   "execution_count": 10,
   "metadata": {},
   "outputs": [
    {
     "name": "stdout",
     "output_type": "stream",
     "text": [
      "3\n",
      "1\n"
     ]
    }
   ],
   "source": [
    "# // : 몫을 구하기 \n",
    "# %  : 나머지 구하기\n",
    "print(10 // 3)  # 10을 3으로 나눈 몫은 3\n",
    "print(10 % 3)   # 10을 3으로 나눈 후의 나머지는 1\n"
   ]
  },
  {
   "cell_type": "markdown",
   "metadata": {},
   "source": [
    "### If 문의 기본 이해\n",
    "```\n",
    "if  (조건문):            -> ①\n",
    "[공백3칸]실행문1.       -> ②\n",
    "[공백  4칸]실행문2      -> ② 앞줄의 공백이 세칸 인데, 실행문2가 공백이 4칸이 되면 에러가 발생됩니다.\n",
    "```\n",
    "* 여기서 우리는 공백을 indent(인덴트)라고 합니다. 들여쓰기라고 합니다."
   ]
  },
  {
   "cell_type": "code",
   "execution_count": 11,
   "metadata": {},
   "outputs": [
    {
     "name": "stdout",
     "output_type": "stream",
     "text": [
      "기관차의 개수 : 10\n",
      "객실의 개수 :5\n",
      "기관차의 개수가 1개이어야 해요.\n"
     ]
    }
   ],
   "source": [
    "# 나의 우주 여행 열차 만들기 \n",
    "a = int( input(\"기관차의 개수 : \") )\n",
    "b = int( input(\"객실의 개수 :\") )\n",
    "if a!=1:   # a가 1개가 아니면, 잘못되었다고 알리기 \n",
    "  print(\"기관차의 개수가 1개이어야 해요.\")"
   ]
  },
  {
   "cell_type": "markdown",
   "metadata": {},
   "source": [
    "### if ~ else 문\n",
    "```\n",
    "# 나의 우주 여행 열차 만들기 - 객실의 개수는 2개 이상은 안됨.\n",
    "a = int( input(\"기관차의 개수 : \") )\n",
    "b = int( input(\"객실의 개수 :\") )\n",
    "if a!=1:\n",
    "  print(\"기관차의 개수가 1개이어야 해요.\")\n",
    "\n",
    "if b<=2:\n",
    "  print(\"객실을 잘 설계했어요.\")\n",
    "else:\n",
    "  print(\"객실의 개수는 3개부터는 위험해요.\")\n",
    "```"
   ]
  },
  {
   "cell_type": "code",
   "execution_count": 12,
   "metadata": {},
   "outputs": [
    {
     "name": "stdout",
     "output_type": "stream",
     "text": [
      "기관차의 개수 : 1\n",
      "객실의 개수 :3\n",
      "객실의 개수는 3개부터는 위험해요.\n"
     ]
    }
   ],
   "source": [
    "# 나의 우주 여행 열차 만들기 - 객실의 개수는 2개 이상은 안됨.\n",
    "a = int( input(\"기관차의 개수 : \") )\n",
    "b = int( input(\"객실의 개수 :\") )\n",
    "if a!=1:\n",
    "  print(\"기관차의 개수가 1개이어야 해요.\")\n",
    "\n",
    "if b<=2:\n",
    "  print(\"객실을 잘 설계했어요.\")\n",
    "else:\n",
    "  print(\"객실의 개수는 3개부터는 위험해요.\")\n"
   ]
  },
  {
   "cell_type": "code",
   "execution_count": 13,
   "metadata": {},
   "outputs": [
    {
     "name": "stdout",
     "output_type": "stream",
     "text": [
      "시간이 흘러 1년이 지났군요\n",
      "몇가지 좋은 일을 했나요?3\n",
      "1개의 선물을 줍니다.\n"
     ]
    }
   ],
   "source": [
    "print(\"시간이 흘러 1년이 지났군요\")\n",
    "num = int (input(\"몇가지 좋은 일을 했나요?\"))\n",
    "yourNum = 0\n",
    "if (num>=10):\n",
    "  print(\"10개의 선물을 줍니다.\")\n",
    "  yourNum = yourNum + 10\n",
    "elif (num>=5):\n",
    "  print(\"5개의 선물을 줍니다.\")\n",
    "  yourNum = yourNum + 5\n",
    "elif (num>=1):\n",
    "  print(\"1개의 선물을 줍니다.\")\n",
    "  yourNum = yourNum + 1\n",
    "else:\n",
    "  print(\"왜 당신은 아무것도 못했나요. 선한일을 할수 있는데\")\n",
    "  yourNum = yourNum - 1"
   ]
  },
  {
   "cell_type": "markdown",
   "metadata": {},
   "source": [
    "### 장난감 나라의 로그인 이야기"
   ]
  },
  {
   "cell_type": "code",
   "execution_count": 14,
   "metadata": {},
   "outputs": [
    {
     "name": "stdout",
     "output_type": "stream",
     "text": [
      "장난감 나라의 ID와 PWD를 입력해 주세요\n",
      "ID:toto\n",
      "PWD:1234\n",
      "ID가 있어요.\n",
      "장난감 나라에 오신것을 환영합니다.\n"
     ]
    }
   ],
   "source": [
    "print(\"장난감 나라의 ID와 PWD를 입력해 주세요\")\n",
    "myid = input(\"ID:\")\n",
    "mypwd = input(\"PWD:\")\n",
    "if myid=='toto':\n",
    "  print(\"ID가 있어요.\")\n",
    "  if mypwd=='1234':\n",
    "    print(\"장난감 나라에 오신것을 환영합니다.\")\n",
    "  else:\n",
    "    print(\"패스워드가 다릅니다.\")\n",
    "else:\n",
    "  print(\"ID가 없어요. 확인해 주세요.\")\n"
   ]
  },
  {
   "cell_type": "markdown",
   "metadata": {},
   "source": [
    "### 무언가를 반복하고 싶을 때(for)"
   ]
  },
  {
   "cell_type": "code",
   "execution_count": 15,
   "metadata": {},
   "outputs": [
    {
     "name": "stdout",
     "output_type": "stream",
     "text": [
      "1\n",
      "2\n",
      "3\n",
      "4\n",
      "5\n"
     ]
    }
   ],
   "source": [
    "print(1)\n",
    "print(2)\n",
    "print(3)\n",
    "print(4)\n",
    "print(5)"
   ]
  },
  {
   "cell_type": "code",
   "execution_count": 16,
   "metadata": {},
   "outputs": [
    {
     "name": "stdout",
     "output_type": "stream",
     "text": [
      "1\n",
      "2\n",
      "3\n",
      "4\n",
      "5\n"
     ]
    }
   ],
   "source": [
    "### 우리의 첫번째 미션은 컴퓨터 친구에서 1~5까지 출력을 하라는 미션을 줍니다.\n",
    "for  i  in range(1,6,1):\n",
    "  print(i)"
   ]
  },
  {
   "cell_type": "code",
   "execution_count": 17,
   "metadata": {
    "scrolled": false
   },
   "outputs": [
    {
     "name": "stdout",
     "output_type": "stream",
     "text": [
      "1 번째반복\n",
      "왼손들어\n",
      "오른손들어\n",
      "2 번째반복\n",
      "왼손들어\n",
      "오른손들어\n",
      "3 번째반복\n",
      "왼손들어\n",
      "오른손들어\n"
     ]
    }
   ],
   "source": [
    "### 두번째 미션은 내 친구 TOTO에게 왼손 들어 3번, 오른손들어 3번을 5번 시키기입니다.\n",
    "for i in range(3):       # range(0,3,1) 과 같음. 0부터 시작 2까지, 1씩 증가\n",
    "  print(i+1, \"번째반복\")\n",
    "  print(\"왼손들어\")\n",
    "  print(\"오른손들어\")"
   ]
  },
  {
   "cell_type": "code",
   "execution_count": 18,
   "metadata": {},
   "outputs": [
    {
     "name": "stdout",
     "output_type": "stream",
     "text": [
      "Hello AI\n"
     ]
    }
   ],
   "source": [
    "print(\"Hello AI\")"
   ]
  },
  {
   "cell_type": "code",
   "execution_count": 20,
   "metadata": {},
   "outputs": [
    {
     "name": "stdout",
     "output_type": "stream",
     "text": [
      "숫자의 리스트 : [1, 2, 3]\n",
      "문자의 리스트 : ['a', 'b', 'c']\n",
      "숫자문자의 리스트 : [1, 2, 'a', 'b']\n",
      "리스트안에 리스트 : [1, 2, [1, 2], [3, 4]]\n"
     ]
    }
   ],
   "source": [
    "# 숫자형의 리스트\n",
    "a = [1,2,3]\n",
    "# 문자형의 리스트\n",
    "b = ['a', 'b', 'c']\n",
    "# 숫자와 문자형의 리스트\n",
    "c = [1,2,'a','b']\n",
    "# 리스트 안에 리스트\n",
    "d = [1,2, [1,2], [3,4] ]\n",
    "     \n",
    "print(\"숫자의 리스트 :\", a)\n",
    "print(\"문자의 리스트 :\", b)\n",
    "print(\"숫자문자의 리스트 :\", c)\n",
    "print(\"리스트안에 리스트 :\", d)"
   ]
  },
  {
   "cell_type": "markdown",
   "metadata": {},
   "source": [
    "####  그렇다면 리스트의 각 안의 요소에는 어떻게 접근을 할까요?"
   ]
  },
  {
   "cell_type": "code",
   "execution_count": 21,
   "metadata": {},
   "outputs": [
    {
     "name": "stdout",
     "output_type": "stream",
     "text": [
      "a\n",
      "b\n",
      "['a', 'b', 'c']\n",
      "['a', 'b', 'c']\n",
      "f\n",
      "e\n",
      "['d', 'e', 'f']\n",
      "['a', 'b', 'c', 'd', 'e', 'f']\n"
     ]
    }
   ],
   "source": [
    "# 문자형의 리스트\n",
    "a = ['a', 'b', 'c', 'd', 'e', 'f']\n",
    "# 첫번째 값을 출력\n",
    "print( a[0] )\n",
    "# 두번째 값을 출력\n",
    "print( a[1] )\n",
    "# 첫번째부터 세번째 값 까지 출력\n",
    "print( a[0:3] )\n",
    "# 첫번째부터 세번째 값 까지 출력 ':'을 기준으로 앞 번호 생략\n",
    "print( a[:3] )\n",
    "# 뒤에서부터 첫번째 값 -기호 이용\n",
    "print( a[-1] )\n",
    "# 뒤에서부터 2번째 값 \n",
    "print( a[-2] )\n",
    "# 뒤에서 세번째부터 끝까지 \":\"을 기준으로 뒤 번호 생략\n",
    "print( a[-3: ] )\n",
    "# 전체 값 출력\n",
    "print( a[ : ] )\n"
   ]
  },
  {
   "cell_type": "markdown",
   "metadata": {},
   "source": [
    "### 내가 좋아하는 음식의 리스트를 출력해 보기"
   ]
  },
  {
   "cell_type": "code",
   "execution_count": 22,
   "metadata": {},
   "outputs": [
    {
     "name": "stdout",
     "output_type": "stream",
     "text": [
      "사과\n",
      "애플파이\n",
      "치킨\n",
      "피자\n"
     ]
    }
   ],
   "source": [
    "# 내가 좋아하는 음식\n",
    "all_food = ['사과', '애플파이', '치킨', '피자']\n",
    "# 난 너가 좋아하는 모든 음식 목록을 보고 싶다.\n",
    "for food in all_food:\n",
    "   print(food)"
   ]
  },
  {
   "cell_type": "code",
   "execution_count": 28,
   "metadata": {},
   "outputs": [
    {
     "name": "stdout",
     "output_type": "stream",
     "text": [
      "<class 'str'>\n",
      "<class 'str'>\n",
      "<class 'int'>\n",
      "<class 'int'>\n"
     ]
    },
    {
     "data": {
      "text/plain": [
       "['사과', '애플파이', '치킨', '피자']"
      ]
     },
     "execution_count": 28,
     "metadata": {},
     "output_type": "execute_result"
    }
   ],
   "source": [
    "### 문자 데이터 중에 숫자를 찾아라\n",
    "all_food = ['사과', '애플파이',3,  '치킨', 8, '피자']\n",
    "\n",
    "# 난 너가 좋아하는 모든 음식 목록을 보고 싶다.\n",
    "for food in all_food:\n",
    "   if type(food) is int:      # 만약 데이터 중에 숫자가 있으면 \n",
    "       all_food.remove(food)  # 그것에 해당되는 숫자를 리스트에서 빼주기 \n",
    "print(all_food)"
   ]
  },
  {
   "cell_type": "code",
   "execution_count": 40,
   "metadata": {},
   "outputs": [
    {
     "name": "stdout",
     "output_type": "stream",
     "text": [
      "안녕! 난 토돌이야\n",
      "아직 한국말을 공부중이야\n",
      "오늘은 기분이 어때?ㅋㅋ\n",
      "모르는 단어가 많아, 공부열심히 할게\n"
     ]
    }
   ],
   "source": [
    "### toto는 프로그래밍이 즐거워\n",
    "print(\"안녕! 난 토돌이야\")\n",
    "print(\"아직 한국말을 공부중이야\")\n",
    "# 감정사전\n",
    "pos = ['좋아', '힘난다.', '날아갈듯', '잘돼']\n",
    "neg = ['나쁘다', '힘들다', '우울해', '잘안돼']\n",
    "# 반응사전\n",
    "ans1 = ['정말 감사해', '최고야', '멋져', '고마워']\n",
    "ans2 = ['울고싶다', '내가 있어', '우리 힘내자']\n",
    "ans = input(\"오늘은 기분이 어때?\")\n",
    "if ans in pos:\n",
    "    sel = random.choice(ans1)\n",
    "    print(sel)\n",
    "elif ans in neg:\n",
    "    sel = random.choice(ans2)\n",
    "    print(sel)\n",
    "else:\n",
    "    print(\"모르는 단어가 많아, 공부 열심히 할게\")"
   ]
  },
  {
   "cell_type": "code",
   "execution_count": null,
   "metadata": {},
   "outputs": [],
   "source": []
  }
 ],
 "metadata": {
  "kernelspec": {
   "display_name": "Python 3",
   "language": "python",
   "name": "python3"
  },
  "language_info": {
   "codemirror_mode": {
    "name": "ipython",
    "version": 3
   },
   "file_extension": ".py",
   "mimetype": "text/x-python",
   "name": "python",
   "nbconvert_exporter": "python",
   "pygments_lexer": "ipython3",
   "version": "3.6.5"
  }
 },
 "nbformat": 4,
 "nbformat_minor": 2
}
