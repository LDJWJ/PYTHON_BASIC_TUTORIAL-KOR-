{
 "cells": [
  {
   "cell_type": "code",
   "execution_count": 1,
   "metadata": {},
   "outputs": [],
   "source": [
    "from urllib.request import urlopen\n",
    "from bs4 import BeautifulSoup"
   ]
  },
  {
   "cell_type": "code",
   "execution_count": 2,
   "metadata": {},
   "outputs": [],
   "source": [
    "url = \"https://news.naver.com/\"\n",
    "page = urlopen(url)\n",
    "\n",
    "soup = BeautifulSoup(page, \"html.parser\")"
   ]
  },
  {
   "cell_type": "code",
   "execution_count": 4,
   "metadata": {},
   "outputs": [
    {
     "data": {
      "text/plain": [
       "6"
      ]
     },
     "execution_count": 4,
     "metadata": {},
     "output_type": "execute_result"
    }
   ],
   "source": [
    "articles = soup.find_all(\"div\", class_=\"hdline_article_tit\")\n",
    "len(articles)"
   ]
  },
  {
   "cell_type": "code",
   "execution_count": 6,
   "metadata": {},
   "outputs": [
    {
     "data": {
      "text/plain": [
       "['박유천 눈물의 회견은 패착···경찰 이미 마약 증거 있었다',\n",
       " '삼성 \"전세계 반도체 시장 1위 목표\"…133조 \\'역대급\\' 투자',\n",
       " '나경원 \"김관영 \\'민주당 갈 수 있다\\'고 해\"…金 \"이간질 분노\"',\n",
       " '\"아프다\" 의료 마약 처방→비트코인 받고 되팔다 들통',\n",
       " '민주 \"장외투쟁 말고 협상테이블 나와라\"…한국당 역으로 \\'압박\\'',\n",
       " '']"
      ]
     },
     "execution_count": 6,
     "metadata": {},
     "output_type": "execute_result"
    }
   ],
   "source": [
    "num = []\n",
    "gubun = []\n",
    "data = []\n",
    "cnt = 0\n",
    "for items in articles:\n",
    "    cnt = cnt + 1\n",
    "    #print(items.text)\n",
    "    num.append(cnt)\n",
    "    gubun.append(\"헤드라인\")\n",
    "    data.append(items.text)\n",
    "data"
   ]
  },
  {
   "cell_type": "code",
   "execution_count": 7,
   "metadata": {},
   "outputs": [
    {
     "data": {
      "text/html": [
       "<div>\n",
       "<style scoped>\n",
       "    .dataframe tbody tr th:only-of-type {\n",
       "        vertical-align: middle;\n",
       "    }\n",
       "\n",
       "    .dataframe tbody tr th {\n",
       "        vertical-align: top;\n",
       "    }\n",
       "\n",
       "    .dataframe thead th {\n",
       "        text-align: right;\n",
       "    }\n",
       "</style>\n",
       "<table border=\"1\" class=\"dataframe\">\n",
       "  <thead>\n",
       "    <tr style=\"text-align: right;\">\n",
       "      <th></th>\n",
       "      <th>no</th>\n",
       "      <th>구분</th>\n",
       "      <th>title</th>\n",
       "    </tr>\n",
       "  </thead>\n",
       "  <tbody>\n",
       "    <tr>\n",
       "      <th>0</th>\n",
       "      <td>1</td>\n",
       "      <td>헤드라인</td>\n",
       "      <td>박유천 눈물의 회견은 패착···경찰 이미 마약 증거 있었다</td>\n",
       "    </tr>\n",
       "    <tr>\n",
       "      <th>1</th>\n",
       "      <td>2</td>\n",
       "      <td>헤드라인</td>\n",
       "      <td>삼성 \"전세계 반도체 시장 1위 목표\"…133조 '역대급' 투자</td>\n",
       "    </tr>\n",
       "    <tr>\n",
       "      <th>2</th>\n",
       "      <td>3</td>\n",
       "      <td>헤드라인</td>\n",
       "      <td>나경원 \"김관영 '민주당 갈 수 있다'고 해\"…金 \"이간질 분노\"</td>\n",
       "    </tr>\n",
       "    <tr>\n",
       "      <th>3</th>\n",
       "      <td>4</td>\n",
       "      <td>헤드라인</td>\n",
       "      <td>\"아프다\" 의료 마약 처방→비트코인 받고 되팔다 들통</td>\n",
       "    </tr>\n",
       "    <tr>\n",
       "      <th>4</th>\n",
       "      <td>5</td>\n",
       "      <td>헤드라인</td>\n",
       "      <td>민주 \"장외투쟁 말고 협상테이블 나와라\"…한국당 역으로 '압박'</td>\n",
       "    </tr>\n",
       "    <tr>\n",
       "      <th>5</th>\n",
       "      <td>6</td>\n",
       "      <td>헤드라인</td>\n",
       "      <td></td>\n",
       "    </tr>\n",
       "  </tbody>\n",
       "</table>\n",
       "</div>"
      ],
      "text/plain": [
       "   no    구분                                 title\n",
       "0   1  헤드라인      박유천 눈물의 회견은 패착···경찰 이미 마약 증거 있었다\n",
       "1   2  헤드라인   삼성 \"전세계 반도체 시장 1위 목표\"…133조 '역대급' 투자\n",
       "2   3  헤드라인  나경원 \"김관영 '민주당 갈 수 있다'고 해\"…金 \"이간질 분노\"\n",
       "3   4  헤드라인         \"아프다\" 의료 마약 처방→비트코인 받고 되팔다 들통\n",
       "4   5  헤드라인   민주 \"장외투쟁 말고 협상테이블 나와라\"…한국당 역으로 '압박'\n",
       "5   6  헤드라인                                      "
      ]
     },
     "execution_count": 7,
     "metadata": {},
     "output_type": "execute_result"
    }
   ],
   "source": [
    "dict_dat = {\"no\":num, \"구분\":gubun, \"title\":data}\n",
    "import pandas as pd \n",
    "dat_xls = pd.DataFrame(dict_dat)\n",
    "dat_xls"
   ]
  },
  {
   "cell_type": "code",
   "execution_count": null,
   "metadata": {},
   "outputs": [],
   "source": []
  }
 ],
 "metadata": {
  "kernelspec": {
   "display_name": "Python 3",
   "language": "python",
   "name": "python3"
  },
  "language_info": {
   "codemirror_mode": {
    "name": "ipython",
    "version": 3
   },
   "file_extension": ".py",
   "mimetype": "text/x-python",
   "name": "python",
   "nbconvert_exporter": "python",
   "pygments_lexer": "ipython3",
   "version": "3.6.5"
  }
 },
 "nbformat": 4,
 "nbformat_minor": 2
}
