{
 "cells": [
  {
   "cell_type": "markdown",
   "metadata": {},
   "source": [
    "## 03. 동적 웹 크롤링"
   ]
  },
  {
   "cell_type": "code",
   "execution_count": 1,
   "metadata": {},
   "outputs": [],
   "source": [
    "from selenium import webdriver\n",
    "from bs4 import BeautifulSoup"
   ]
  },
  {
   "cell_type": "code",
   "execution_count": 2,
   "metadata": {},
   "outputs": [],
   "source": [
    "driver = webdriver.Chrome('chromedriver')  # 웹 브라우저 띄우기\n",
    "## http://www.opinet.co.kr/searRgSelect.do 접속 \n",
    "driver.get('https://datalab.naver.com/keyword/realtimeList.naver')"
   ]
  },
  {
   "cell_type": "code",
   "execution_count": 7,
   "metadata": {},
   "outputs": [
    {
     "data": {
      "text/plain": [
       "20"
      ]
     },
     "execution_count": 7,
     "metadata": {},
     "output_type": "execute_result"
    }
   ],
   "source": [
    "soup = BeautifulSoup(driver.page_source, 'lxml') # 페이지 소스 가져오기\n",
    "teen_year = soup.find_all(\"ul\", class_ = \"rank_list v2\") \n",
    "li_part1 = teen_year[0].find_all(\"li\", class_=\"list\")\n",
    "li_part2 = teen_year[1].find_all(\"li\", class_=\"list\")\n",
    "li_part3 = teen_year[2].find_all(\"li\", class_=\"list\")\n",
    "\n",
    "len(li_part1)"
   ]
  },
  {
   "cell_type": "code",
   "execution_count": 8,
   "metadata": {},
   "outputs": [
    {
     "name": "stdout",
     "output_type": "stream",
     "text": [
      "['히든프라이스', '야옹이 작가', '박영선', '여신강림 작가', '조양호', '감스트', '이매리', '위자', '파키라', '타인은 지옥이다', '붐붐파워', '이언주', '조현우', '한국도로공사 채용', '인플루엔자', 'gi지수 낮은 음식', '이원진', '진영', '팔카오', '임시완']\n",
      "['히든프라이스', '여신강림 작가', '감스트', '야옹이 작가', '빅히트샵', '반티', '장난스런키스', '수요일 문화의 날 영화', '문화의날', '타인은 지옥이다', '커리어넷', '어스', '러블랭', '임시완', '팔카오', '김새론', '전소미', '씨지브이', '경남대 e캠퍼스', '어스 영화']\n",
      "['히든프라이스', '여신강림 작가', '야옹이 작가', '감스트', '한국도로공사 채용', '타인은 지옥이다', '위자', '조양호', '임시완', '문화의날', '롯데 채용', '어스', '팔카오', '조현우', '김새론', '수요일 문화의 날 영화', '박영선', '영화 어스', '어스 영화', '군함도']\n"
     ]
    }
   ],
   "source": [
    "key_word1 = []\n",
    "key_word2 = []\n",
    "key_word3 = []\n",
    "for items in li_part1:\n",
    "    word = items.find(\"span\", class_=\"title\")\n",
    "    key_word1.append(word.text)\n",
    "\n",
    "for items in li_part2:\n",
    "    word = items.find(\"span\", class_=\"title\")\n",
    "    key_word2.append(word.text)\n",
    "\n",
    "for items in li_part3:\n",
    "    word = items.find(\"span\", class_=\"title\")\n",
    "    key_word3.append(word.text)\n",
    "    \n",
    "print(key_word1)\n",
    "print(key_word2)\n",
    "print(key_word3)"
   ]
  },
  {
   "cell_type": "code",
   "execution_count": 11,
   "metadata": {},
   "outputs": [
    {
     "name": "stdout",
     "output_type": "stream",
     "text": [
      "           10대           20대           30대\n",
      "0       히든프라이스        히든프라이스        히든프라이스\n",
      "1       야옹이 작가       여신강림 작가       여신강림 작가\n",
      "2          박영선           감스트        야옹이 작가\n",
      "3      여신강림 작가        야옹이 작가           감스트\n",
      "4          조양호          빅히트샵     한국도로공사 채용\n",
      "5          감스트            반티      타인은 지옥이다\n",
      "6          이매리        장난스런키스            위자\n",
      "7           위자  수요일 문화의 날 영화           조양호\n",
      "8          파키라          문화의날           임시완\n",
      "9     타인은 지옥이다      타인은 지옥이다          문화의날\n",
      "10        붐붐파워          커리어넷         롯데 채용\n",
      "11         이언주            어스            어스\n",
      "12         조현우           러블랭           팔카오\n",
      "13   한국도로공사 채용           임시완           조현우\n",
      "14       인플루엔자           팔카오           김새론\n",
      "15  gi지수 낮은 음식           김새론  수요일 문화의 날 영화\n",
      "16         이원진           전소미           박영선\n",
      "17          진영          씨지브이         영화 어스\n",
      "18         팔카오      경남대 e캠퍼스         어스 영화\n",
      "19         임시완         어스 영화           군함도\n"
     ]
    }
   ],
   "source": [
    "dict_val = {\"10대\":key_word1, \"20대\":key_word2, \"30대\":key_word3}\n",
    "\n",
    "# In[12]:\n",
    "import pandas as pd\n",
    "dat = pd.DataFrame(dict_val)\n",
    "print(dat)\n",
    "\n",
    "dat.to_excel(\"output.xlsx\", sheet_name='Sheet_name_1', index=True)"
   ]
  },
  {
   "cell_type": "code",
   "execution_count": null,
   "metadata": {},
   "outputs": [],
   "source": []
  }
 ],
 "metadata": {
  "kernelspec": {
   "display_name": "Python 3",
   "language": "python",
   "name": "python3"
  },
  "language_info": {
   "codemirror_mode": {
    "name": "ipython",
    "version": 3
   },
   "file_extension": ".py",
   "mimetype": "text/x-python",
   "name": "python",
   "nbconvert_exporter": "python",
   "pygments_lexer": "ipython3",
   "version": "3.6.5"
  }
 },
 "nbformat": 4,
 "nbformat_minor": 2
}
